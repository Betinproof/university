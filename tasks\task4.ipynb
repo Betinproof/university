{
  "nbformat": 4,
  "nbformat_minor": 0,
  "metadata": {
    "colab": {
      "provenance": [],
      "authorship_tag": "ABX9TyOjnLpdiQh2qEkJ2F25KUSM",
      "include_colab_link": true
    },
    "kernelspec": {
      "name": "python3",
      "display_name": "Python 3"
    },
    "language_info": {
      "name": "python"
    }
  },
  "cells": [
    {
      "cell_type": "markdown",
      "metadata": {
        "id": "view-in-github",
        "colab_type": "text"
      },
      "source": [
        "<a href=\"https://colab.research.google.com/github/Betinproof/university/blob/main/tasks%5Ctask4.ipynb\" target=\"_parent\"><img src=\"https://colab.research.google.com/assets/colab-badge.svg\" alt=\"Open In Colab\"/></a>"
      ]
    },
    {
      "cell_type": "code",
      "execution_count": 17,
      "metadata": {
        "colab": {
          "base_uri": "https://localhost:8080/"
        },
        "id": "IpC9ypXT316V",
        "outputId": "950000d5-9847-47c2-b723-ec0434f357b9"
      },
      "outputs": [
        {
          "output_type": "stream",
          "name": "stdout",
          "text": [
            "Введите число a: 123\n",
            "Следующее число для числа a: \n",
            "124\n",
            "Предыдущее число для числа a: \n",
            "122\n"
          ]
        }
      ],
      "source": [
        "a_str = input(\"Введите число a: \")\n",
        "a = int(a_str)\n",
        "b = a - 1\n",
        "c = a + 1\n",
        "print(\"Следующее число для числа a: \")\n",
        "print(c)\n",
        "print(\"Предыдущее число для числа a: \")\n",
        "print(b)"
      ]
    }
  ]
}