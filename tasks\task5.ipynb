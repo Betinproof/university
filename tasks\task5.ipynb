{
  "nbformat": 4,
  "nbformat_minor": 0,
  "metadata": {
    "colab": {
      "provenance": [],
      "authorship_tag": "ABX9TyN8fmOeELvLAZuCPJNSPGbb",
      "include_colab_link": true
    },
    "kernelspec": {
      "name": "python3",
      "display_name": "Python 3"
    },
    "language_info": {
      "name": "python"
    }
  },
  "cells": [
    {
      "cell_type": "markdown",
      "metadata": {
        "id": "view-in-github",
        "colab_type": "text"
      },
      "source": [
        "<a href=\"https://colab.research.google.com/github/Betinproof/university/blob/main/tasks%5Ctask5.ipynb\" target=\"_parent\"><img src=\"https://colab.research.google.com/assets/colab-badge.svg\" alt=\"Open In Colab\"/></a>"
      ]
    },
    {
      "cell_type": "code",
      "source": [
        "N_str = input(\"Введите количество студентов: \")\n",
        "N = int(N_str)\n",
        "K_str = input(\"Введите количество яблок: \")\n",
        "K = int(K_str)\n",
        "a = K // N\n",
        "b = K % N\n",
        "print(\"Яблок у студентов: \")\n",
        "print(a)\n",
        "print(\"Яблок в корзине: \")\n",
        "print(b)"
      ],
      "metadata": {
        "colab": {
          "base_uri": "https://localhost:8080/"
        },
        "id": "snLSyCrS-XPo",
        "outputId": "5b4cd82a-97e8-47ec-fedf-e3c2d7de00ab"
      },
      "execution_count": 37,
      "outputs": [
        {
          "output_type": "stream",
          "name": "stdout",
          "text": [
            "Введите количество студентов: 6\n",
            "Введите количество яблок: 50\n",
            "Яблок у студентов: \n",
            "8\n",
            "Яблок в корзине: \n",
            "2\n"
          ]
        }
      ]
    },
    {
      "cell_type": "code",
      "execution_count": 17,
      "metadata": {
        "colab": {
          "base_uri": "https://localhost:8080/"
        },
        "id": "IpC9ypXT316V",
        "outputId": "950000d5-9847-47c2-b723-ec0434f357b9"
      },
      "outputs": [
        {
          "output_type": "stream",
          "name": "stdout",
          "text": [
            "Введите число a: 123\n",
            "Следующее число для числа a: \n",
            "124\n",
            "Предыдущее число для числа a: \n",
            "122\n"
          ]
        }
      ],
      "source": [
        "a_str = input(\"Введите число a: \")\n",
        "a = int(a_str)\n",
        "b = a - 1\n",
        "c = a + 1\n",
        "print(\"Следующее число для числа a: \")\n",
        "print(c)\n",
        "print(\"Предыдущее число для числа a: \")\n",
        "print(b)"
      ]
    }
  ]
}