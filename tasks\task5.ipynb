{
  "nbformat": 4,
  "nbformat_minor": 0,
  "metadata": {
    "colab": {
      "provenance": [],
      "authorship_tag": "ABX9TyOQhMmM4W4gGgTLFaQzf+QA",
      "include_colab_link": true
    },
    "kernelspec": {
      "name": "python3",
      "display_name": "Python 3"
    },
    "language_info": {
      "name": "python"
    }
  },
  "cells": [
    {
      "cell_type": "markdown",
      "metadata": {
        "id": "view-in-github",
        "colab_type": "text"
      },
      "source": [
        "<a href=\"https://colab.research.google.com/github/Betinproof/university/blob/main/tasks%5Ctask5.ipynb\" target=\"_parent\"><img src=\"https://colab.research.google.com/assets/colab-badge.svg\" alt=\"Open In Colab\"/></a>"
      ]
    },
    {
      "cell_type": "code",
      "source": [
        "N_str = input(\"Введите количество студентов: \")\n",
        "N = int(N_str)\n",
        "K_str = input(\"Введите количество яблок: \")\n",
        "K = int(K_str)\n",
        "a = K // N\n",
        "b = K % N\n",
        "print(\"Яблок у студентов: \")\n",
        "print(a)\n",
        "print(\"Яблок в корзине: \")\n",
        "print(b)"
      ],
      "metadata": {
        "colab": {
          "base_uri": "https://localhost:8080/"
        },
        "id": "snLSyCrS-XPo",
        "outputId": "5b4cd82a-97e8-47ec-fedf-e3c2d7de00ab"
      },
      "execution_count": 37,
      "outputs": [
        {
          "output_type": "stream",
          "name": "stdout",
          "text": [
            "Введите количество студентов: 6\n",
            "Введите количество яблок: 50\n",
            "Яблок у студентов: \n",
            "8\n",
            "Яблок в корзине: \n",
            "2\n"
          ]
        }
      ]
    }
  ]
}