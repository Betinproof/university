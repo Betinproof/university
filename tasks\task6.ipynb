{
  "nbformat": 4,
  "nbformat_minor": 0,
  "metadata": {
    "colab": {
      "provenance": [],
      "authorship_tag": "ABX9TyNo/p4OdAPyyuer5li0TtaT",
      "include_colab_link": true
    },
    "kernelspec": {
      "name": "python3",
      "display_name": "Python 3"
    },
    "language_info": {
      "name": "python"
    }
  },
  "cells": [
    {
      "cell_type": "markdown",
      "metadata": {
        "id": "view-in-github",
        "colab_type": "text"
      },
      "source": [
        "<a href=\"https://colab.research.google.com/github/Betinproof/university/blob/main/tasks%5Ctask6.ipynb\" target=\"_parent\"><img src=\"https://colab.research.google.com/assets/colab-badge.svg\" alt=\"Open In Colab\"/></a>"
      ]
    },
    {
      "cell_type": "code",
      "source": [
        "import sys\n",
        "N = input(\"Введите количество секкунд: \")\n",
        "N = int(N)\n",
        "a = N // 60\n",
        "b = a // 60\n",
        "if (b > 23):\n",
        "  sys.exit(\"Слишком большое число\")\n",
        "print(b)\n",
        "print(a)"
      ],
      "metadata": {
        "colab": {
          "base_uri": "https://localhost:8080/"
        },
        "id": "snLSyCrS-XPo",
        "outputId": "af2ca25a-bda2-4239-e0d7-11e79d74b64f"
      },
      "execution_count": 55,
      "outputs": [
        {
          "output_type": "stream",
          "name": "stdout",
          "text": [
            "Введите количество секкунд: 72000\n",
            "20\n",
            "1200\n"
          ]
        }
      ]
    }
  ]
}