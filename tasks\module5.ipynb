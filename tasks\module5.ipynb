{
  "nbformat": 4,
  "nbformat_minor": 0,
  "metadata": {
    "colab": {
      "provenance": [],
      "authorship_tag": "ABX9TyNnnSftH2AzdgBPr4LTIX5t",
      "include_colab_link": true
    },
    "kernelspec": {
      "name": "python3",
      "display_name": "Python 3"
    },
    "language_info": {
      "name": "python"
    }
  },
  "cells": [
    {
      "cell_type": "markdown",
      "metadata": {
        "id": "view-in-github",
        "colab_type": "text"
      },
      "source": [
        "<a href=\"https://colab.research.google.com/github/Betinproof/university/blob/main/tasks%5Cmodule5.ipynb\" target=\"_parent\"><img src=\"https://colab.research.google.com/assets/colab-badge.svg\" alt=\"Open In Colab\"/></a>"
      ]
    },
    {
      "cell_type": "code",
      "execution_count": 4,
      "metadata": {
        "colab": {
          "base_uri": "https://localhost:8080/"
        },
        "id": "mvZTBaVPxQ2N",
        "outputId": "6098c8ed-689e-4dca-f5b4-adba2364d3c4"
      },
      "outputs": [
        {
          "output_type": "stream",
          "name": "stdout",
          "text": [
            "12\n",
            "2\n"
          ]
        }
      ],
      "source": [
        "a = int(input())\n",
        "b = 2\n",
        "while b < 10:\n",
        "    if(a % b == 0):\n",
        "      print(b)\n",
        "      break\n",
        "    b = b + 1"
      ]
    },
    {
      "cell_type": "code",
      "source": [
        "X = int(input())\n",
        "N = 1\n",
        "while X > 2 ** N:\n",
        "  if(X < 2 ** (N + 1)):\n",
        "    break\n",
        "  N = N + 1\n",
        "print(N, 2 ** N)"
      ],
      "metadata": {
        "colab": {
          "base_uri": "https://localhost:8080/"
        },
        "id": "rn0kco_vy0Nc",
        "outputId": "c63df654-54e9-4007-a153-c7e28532a590"
      },
      "execution_count": 17,
      "outputs": [
        {
          "output_type": "stream",
          "name": "stdout",
          "text": [
            "16\n",
            "4 16\n"
          ]
        }
      ]
    },
    {
      "cell_type": "code",
      "source": [
        "X = int(input())\n",
        "Y = int(input())\n",
        "n = 1\n",
        "while X < Y:\n",
        "  X = X * 1.1\n",
        "  n = n + 1\n",
        "print(n)"
      ],
      "metadata": {
        "colab": {
          "base_uri": "https://localhost:8080/"
        },
        "id": "gTT7bbUG2MzG",
        "outputId": "78f3707d-3ad0-4692-e6f9-a4d10c4d063a"
      },
      "execution_count": 30,
      "outputs": [
        {
          "output_type": "stream",
          "name": "stdout",
          "text": [
            "10\n",
            "30\n",
            "13\n"
          ]
        }
      ]
    },
    {
      "cell_type": "code",
      "source": [
        "a = int(input())\n",
        "k = 0\n",
        "b = int(input())\n",
        "while b != 0:\n",
        "    if b > a:\n",
        "      k = k + 1\n",
        "    b = int(input())\n",
        "print(k)"
      ],
      "metadata": {
        "colab": {
          "base_uri": "https://localhost:8080/"
        },
        "id": "-Jjvnt2U60O6",
        "outputId": "21a8c8ea-ba67-4c08-cb03-0be0450d75e9"
      },
      "execution_count": 45,
      "outputs": [
        {
          "output_type": "stream",
          "name": "stdout",
          "text": [
            "1\n",
            "2\n",
            "2\n",
            "2\n",
            "2\n",
            "0\n",
            "4\n"
          ]
        }
      ]
    },
    {
      "cell_type": "code",
      "source": [
        "N = int(input())\n",
        "x = 1\n",
        "while N > x ** 2:\n",
        "  print(x ** 2)\n",
        "  x = x + 1"
      ],
      "metadata": {
        "colab": {
          "base_uri": "https://localhost:8080/"
        },
        "id": "qIjouUm9AmvM",
        "outputId": "365546d9-3ccf-49c9-cc30-0f6682b78a35"
      },
      "execution_count": 47,
      "outputs": [
        {
          "output_type": "stream",
          "name": "stdout",
          "text": [
            "50\n",
            "1\n",
            "4\n",
            "9\n",
            "16\n",
            "25\n",
            "36\n",
            "49\n"
          ]
        }
      ]
    },
    {
      "cell_type": "code",
      "source": [
        "N = int(input())\n",
        "a = 0\n",
        "b = 1\n",
        "k = 1\n",
        "while a+b <= N:\n",
        "  c = a + b\n",
        "  a = b\n",
        "  b = c\n",
        "  k = k + 1\n",
        "if N == b:\n",
        "    print(k)\n",
        "else:\n",
        "    print(-1)"
      ],
      "metadata": {
        "colab": {
          "base_uri": "https://localhost:8080/"
        },
        "id": "0XWbGqjgB2Wx",
        "outputId": "e92c6dd4-19f1-49b6-ea6a-d2b31b42cee6"
      },
      "execution_count": 53,
      "outputs": [
        {
          "output_type": "stream",
          "name": "stdout",
          "text": [
            "8\n",
            "6\n"
          ]
        }
      ]
    },
    {
      "cell_type": "code",
      "source": [
        "n = int(input(\"Введите номер члена последовательности Фибоначчи: \"))\n",
        "a = 0\n",
        "b = 1\n",
        "for i in range (1, n):\n",
        "  c = a + b\n",
        "  a = b\n",
        "  b = c\n",
        "print(b)"
      ],
      "metadata": {
        "colab": {
          "base_uri": "https://localhost:8080/"
        },
        "id": "bJhUKkNIJuNQ",
        "outputId": "65720e7c-77a5-46ab-e5e1-352d24337a05"
      },
      "execution_count": 64,
      "outputs": [
        {
          "output_type": "stream",
          "name": "stdout",
          "text": [
            "6\n",
            "14\n"
          ]
        }
      ]
    },
    {
      "cell_type": "code",
      "source": [
        "n = int(input())\n",
        "max1 = 0\n",
        "max = 0\n",
        "if n != 0:\n",
        "  max = 1\n",
        "  pos = n\n",
        "while n != 0:\n",
        "  n = int(input())\n",
        "  if n != 0 and n == pos:\n",
        "    max = max + 1\n",
        "  elif n != 0 and n != pos:\n",
        "    pos = n\n",
        "    if max > max1:\n",
        "      max1 = max\n",
        "    max = 1\n",
        "if max > max1:\n",
        "  max1 = max\n",
        "print(max1)"
      ],
      "metadata": {
        "colab": {
          "base_uri": "https://localhost:8080/"
        },
        "id": "WDLT9_68Yqkw",
        "outputId": "c0badb6c-86a0-44da-c661-e1fb2b1cde68"
      },
      "execution_count": 109,
      "outputs": [
        {
          "output_type": "stream",
          "name": "stdout",
          "text": [
            "2\n",
            "2\n",
            "2\n",
            "0\n",
            "3\n"
          ]
        }
      ]
    }
  ]
}