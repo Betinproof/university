{
  "nbformat": 4,
  "nbformat_minor": 0,
  "metadata": {
    "colab": {
      "provenance": [],
      "authorship_tag": "ABX9TyOYPRYhKx4h7NS9ZTdc9/VN",
      "include_colab_link": true
    },
    "kernelspec": {
      "name": "python3",
      "display_name": "Python 3"
    },
    "language_info": {
      "name": "python"
    }
  },
  "cells": [
    {
      "cell_type": "markdown",
      "metadata": {
        "id": "view-in-github",
        "colab_type": "text"
      },
      "source": [
        "<a href=\"https://colab.research.google.com/github/Betinproof/university/blob/main/tasks%5Cmodule7.ipynb\" target=\"_parent\"><img src=\"https://colab.research.google.com/assets/colab-badge.svg\" alt=\"Open In Colab\"/></a>"
      ]
    },
    {
      "cell_type": "code",
      "source": [
        "data = {}\n",
        "result = []\n",
        "for i in input().split():\n",
        "  if i in data:\n",
        "    result.append(data[i])\n",
        "    data[i] += 1\n",
        "  else:\n",
        "    data[i] = 1\n",
        "    result.append(0)\n",
        "print(\" \".join(map(str, result)))"
      ],
      "metadata": {
        "colab": {
          "base_uri": "https://localhost:8080/"
        },
        "id": "RrHrxsVTTiIf",
        "outputId": "e09465de-5d92-42dd-95e4-daee696be600"
      },
      "execution_count": 13,
      "outputs": [
        {
          "output_type": "stream",
          "name": "stdout",
          "text": [
            "one two one two three two four three\n",
            "0 0 1 1 0 2 0 1\n"
          ]
        }
      ]
    },
    {
      "cell_type": "code",
      "source": [
        "data = {}\n",
        "for _ in range(int(input())):\n",
        "  pair = input().split()\n",
        "  data[pair[0]] = pair[1]\n",
        "  data[pair[1]] = pair[0]\n",
        "print(data[input()])"
      ],
      "metadata": {
        "colab": {
          "base_uri": "https://localhost:8080/"
        },
        "id": "maAXAYnTdXH2",
        "outputId": "85c4fcbe-ce0c-455e-8a34-659504d9e735"
      },
      "execution_count": 14,
      "outputs": [
        {
          "output_type": "stream",
          "name": "stdout",
          "text": [
            "3\n",
            "Hello Hi\n",
            "Bye Goodbye\n",
            "List Array\n",
            "Goodbye\n",
            "Bye\n"
          ]
        }
      ]
    },
    {
      "cell_type": "code",
      "source": [
        "data = {}\n",
        "for _ in range(int(input())):\n",
        "  pair = input().split()\n",
        "  if pair[0] in data:\n",
        "    data[pair[0]] += int(pair[1])\n",
        "  else:\n",
        "    data[pair[0]] = int(pair[1])\n",
        "print(\"\\n\".join([f\"{i} {data[i]}\" for i in sorted(data)]))"
      ],
      "metadata": {
        "colab": {
          "base_uri": "https://localhost:8080/"
        },
        "id": "tg4MQ_t2dib8",
        "outputId": "84ee94a3-2ac8-4c29-8cb9-ceb218ef3958"
      },
      "execution_count": 15,
      "outputs": [
        {
          "output_type": "stream",
          "name": "stdout",
          "text": [
            "5\n",
            "Smith 10\n",
            "Smith 5\n",
            "Dow 9\n",
            "Dow 8\n",
            "Smith 1\n",
            "Dow 17\n",
            "Smith 16\n"
          ]
        }
      ]
    },
    {
      "cell_type": "code",
      "source": [
        "from functools import reduce\n",
        "\n",
        "data = {}\n",
        "for _ in range(int(input())):\n",
        "  line = input().split()\n",
        "  for i in line:\n",
        "    if i in data:\n",
        "      data[i] += 1\n",
        "    else:\n",
        "      data[i] = 0\n",
        "\n",
        "result = reduce(lambda x, y: x if data[x] > data[y] else sorted([x, y])[0] if data[x] == data[y] else y, data)\n",
        "print(result)"
      ],
      "metadata": {
        "colab": {
          "base_uri": "https://localhost:8080/"
        },
        "id": "uRU69gp5dlom",
        "outputId": "af769bd0-b016-4286-e038-4929f7be686d"
      },
      "execution_count": 16,
      "outputs": [
        {
          "output_type": "stream",
          "name": "stdout",
          "text": [
            "2\n",
            "apple orange banana\n",
            "banana orange\n",
            "banana\n"
          ]
        }
      ]
    },
    {
      "cell_type": "code",
      "source": [
        "files = {}\n",
        "commands = {\n",
        "    \"read\": \"R\",\n",
        "    \"write\": \"W\",\n",
        "    \"execute\": \"X\"\n",
        "}\n",
        "\n",
        "for _ in range(int(input())):\n",
        "  line = input().split()\n",
        "  files[line[0]] = line[1:]\n",
        "\n",
        "for _ in range(int(input())):\n",
        "  line = input().split()\n",
        "  command = commands[line[0]]\n",
        "  if command in files[line[1]]:\n",
        "    print(\"OK\")\n",
        "  else:\n",
        "    print(\"Denied\")\n"
      ],
      "metadata": {
        "colab": {
          "base_uri": "https://localhost:8080/"
        },
        "id": "Kt2KNIaOdq5B",
        "outputId": "9d339676-f308-4c63-c72b-63fdc6944803"
      },
      "execution_count": 17,
      "outputs": [
        {
          "output_type": "stream",
          "name": "stdout",
          "text": [
            "4\n",
            "notepad.exe R X\n",
            "access.log W R\n",
            "logo.gif R\n",
            "httpd.conf X W R\n",
            "5\n",
            "read logo.gif\n",
            "OK\n",
            "write notepad.exe\n",
            "Denied\n",
            "execute logo.gif\n",
            "Denied\n",
            "read access.log\n",
            "OK\n",
            "write access.log\n",
            "OK\n"
          ]
        }
      ]
    },
    {
      "cell_type": "code",
      "source": [
        "country_cities = {}\n",
        "for _ in range(int(input())):\n",
        "  line = input().split(\" \")\n",
        "  for i in line[1:]:\n",
        "    country_cities[i] = line[0]\n",
        "\n",
        "for _ in range(int(input())):\n",
        "  city = input()\n",
        "  print(country_cities[city])"
      ],
      "metadata": {
        "colab": {
          "base_uri": "https://localhost:8080/"
        },
        "id": "9hvBnYUddySS",
        "outputId": "81fc48e1-49d8-43fc-c14c-7ea81e9f41d0"
      },
      "execution_count": 18,
      "outputs": [
        {
          "output_type": "stream",
          "name": "stdout",
          "text": [
            "2\n",
            "USA Boston Pittsburg Washington Seattle\n",
            "UK London Edinburgh Cardiff Belfast\n",
            "3\n",
            "Cardiff\n",
            "UK\n",
            "Seattle\n",
            "USA\n",
            "London\n",
            "UK\n"
          ]
        }
      ]
    },
    {
      "cell_type": "code",
      "source": [
        "data = {}\n",
        "for _ in range(int(input())):\n",
        "  line = input().split()\n",
        "  for word in line:\n",
        "    if word in data:\n",
        "      data[word] += 1\n",
        "    else:\n",
        "      data[word] = 1\n",
        "\n",
        "print(\"\\n\".join([f\"{i} {data[i]}\" for i in sorted(data, key=lambda x: data[x], reverse=True)]))\n"
      ],
      "metadata": {
        "colab": {
          "base_uri": "https://localhost:8080/"
        },
        "id": "RO7T8sypd3wX",
        "outputId": "0d63047c-4737-4272-803f-7c598b0b20c9"
      },
      "execution_count": 19,
      "outputs": [
        {
          "output_type": "stream",
          "name": "stdout",
          "text": [
            "9\n",
            "hi\n",
            "hi\n",
            "what is your name\n",
            "my name is bond\n",
            "james bond\n",
            "my name is damme\n",
            "van damme\n",
            "claude van damme\n",
            "jean claude van damme\n",
            "damme 4\n",
            "is 3\n",
            "name 3\n",
            "van 3\n",
            "hi 2\n",
            "my 2\n",
            "bond 2\n",
            "claude 2\n",
            "what 1\n",
            "your 1\n",
            "james 1\n",
            "jean 1\n"
          ]
        }
      ]
    }
  ]
}