{
  "nbformat": 4,
  "nbformat_minor": 0,
  "metadata": {
    "colab": {
      "provenance": [],
      "authorship_tag": "ABX9TyOYBKdVjWHZVSh5nL6OXRdT",
      "include_colab_link": true
    },
    "kernelspec": {
      "name": "python3",
      "display_name": "Python 3"
    },
    "language_info": {
      "name": "python"
    }
  },
  "cells": [
    {
      "cell_type": "markdown",
      "metadata": {
        "id": "view-in-github",
        "colab_type": "text"
      },
      "source": [
        "<a href=\"https://colab.research.google.com/github/Betinproof/university/blob/main/tasks%5Cmodule6.ipynb\" target=\"_parent\"><img src=\"https://colab.research.google.com/assets/colab-badge.svg\" alt=\"Open In Colab\"/></a>"
      ]
    },
    {
      "cell_type": "code",
      "source": [
        "print(\" \".join([s for s in input().split() if int(s) % 2]))"
      ],
      "metadata": {
        "colab": {
          "base_uri": "https://localhost:8080/"
        },
        "id": "RrHrxsVTTiIf",
        "outputId": "c26c216b-317c-4191-d9a2-11257da162cd"
      },
      "execution_count": 1,
      "outputs": [
        {
          "output_type": "stream",
          "name": "stdout",
          "text": [
            "5 6 7 8 9\n",
            "5 7 9\n"
          ]
        }
      ]
    },
    {
      "cell_type": "code",
      "source": [
        "lst = [int(s) for s in input().split()]\n",
        "print(\" \".join([str(e) for i, e in enumerate(lst[1:]) if lst[i] < e]))"
      ],
      "metadata": {
        "colab": {
          "base_uri": "https://localhost:8080/"
        },
        "id": "maAXAYnTdXH2",
        "outputId": "b7b47015-0caf-4f72-b748-942aaef44338"
      },
      "execution_count": 2,
      "outputs": [
        {
          "output_type": "stream",
          "name": "stdout",
          "text": [
            "1 5 2 4 3\n",
            "5 4\n"
          ]
        }
      ]
    },
    {
      "cell_type": "code",
      "source": [
        "lst = input().split()\n",
        "result = []\n",
        "for i in range(1, len(lst), 2):\n",
        "  result.extend([lst[i], lst[i-1]])\n",
        "if len(lst) % 2:\n",
        "  result.append(lst[-1])\n",
        "print(\" \".join(result))"
      ],
      "metadata": {
        "colab": {
          "base_uri": "https://localhost:8080/"
        },
        "id": "tg4MQ_t2dib8",
        "outputId": "7cf2d0ff-8ead-442b-fb01-0ab39493942b"
      },
      "execution_count": 3,
      "outputs": [
        {
          "output_type": "stream",
          "name": "stdout",
          "text": [
            "1 2 3 4 5\n",
            "2 1 4 3 5\n"
          ]
        }
      ]
    },
    {
      "cell_type": "code",
      "source": [
        "lst = [int(s) for s in input().split()]\n",
        "max_index = lst.index(max(lst))\n",
        "min_index = lst.index(min(lst))\n",
        "\n",
        "lst[max_index], lst[min_index] = lst[min_index], lst[max_index]\n",
        "\n",
        "print(\" \".join(map(str, lst)))"
      ],
      "metadata": {
        "colab": {
          "base_uri": "https://localhost:8080/"
        },
        "id": "uRU69gp5dlom",
        "outputId": "e230867d-d8e1-4c3b-a3de-bfbba3472444"
      },
      "execution_count": 4,
      "outputs": [
        {
          "output_type": "stream",
          "name": "stdout",
          "text": [
            "3 4 5 2 1\n",
            "3 4 1 2 5\n"
          ]
        }
      ]
    },
    {
      "cell_type": "code",
      "source": [
        "lst1 = input().split()\n",
        "lst2 = input().split()\n",
        "\n",
        "print(len([i for i in lst1 if i in lst2]))"
      ],
      "metadata": {
        "colab": {
          "base_uri": "https://localhost:8080/"
        },
        "id": "Kt2KNIaOdq5B",
        "outputId": "b2783953-38b2-43d4-ad76-eb8a6e8576d1"
      },
      "execution_count": 5,
      "outputs": [
        {
          "output_type": "stream",
          "name": "stdout",
          "text": [
            "1 3 2\n",
            "4 3 2\n",
            "2\n"
          ]
        }
      ]
    },
    {
      "cell_type": "code",
      "source": [
        "lst1 = input().split()\n",
        "lst2 = input().split()\n",
        "\n",
        "print(\" \".join([i for i in lst1 if i in lst2]))"
      ],
      "metadata": {
        "colab": {
          "base_uri": "https://localhost:8080/"
        },
        "id": "9hvBnYUddySS",
        "outputId": "deefbe4a-81cd-49d6-b743-f9a49a5b6c78"
      },
      "execution_count": 6,
      "outputs": [
        {
          "output_type": "stream",
          "name": "stdout",
          "text": [
            "1 3 2\n",
            "4 3 2\n",
            "3 2\n"
          ]
        }
      ]
    },
    {
      "cell_type": "code",
      "source": [
        "lst = input().split()\n",
        "\n",
        "print(\"\\n\".join([\"ДА\" if e in lst[:i] else \"НЕТ\" for i, e in enumerate(lst)]))"
      ],
      "metadata": {
        "colab": {
          "base_uri": "https://localhost:8080/"
        },
        "id": "RO7T8sypd3wX",
        "outputId": "4043ec58-5345-4959-dbfb-0cb00a982b03"
      },
      "execution_count": 7,
      "outputs": [
        {
          "output_type": "stream",
          "name": "stdout",
          "text": [
            "1 2 3 2 3 4\n",
            "НЕТ\n",
            "НЕТ\n",
            "НЕТ\n",
            "ДА\n",
            "ДА\n",
            "НЕТ\n"
          ]
        }
      ]
    },
    {
      "cell_type": "code",
      "source": [
        "line = input()\n",
        "print(line[2])\n",
        "print(line[-1])\n",
        "print(line[:5])\n",
        "print(line[:-2])\n",
        "print(line[::2])\n",
        "print(line[1::2])\n",
        "print(line[::-1])\n",
        "print(line[::-2])"
      ],
      "metadata": {
        "colab": {
          "base_uri": "https://localhost:8080/"
        },
        "id": "pSO1mC4ieAxo",
        "outputId": "47241594-7985-4937-906f-f67aea5fbc2d"
      },
      "execution_count": 8,
      "outputs": [
        {
          "output_type": "stream",
          "name": "stdout",
          "text": [
            "Abrakadabra\n",
            "r\n",
            "a\n",
            "Abrak\n",
            "Abrakadab\n",
            "Arkdba\n",
            "baaar\n",
            "arbadakarbA\n",
            "abdkrA\n"
          ]
        }
      ]
    },
    {
      "cell_type": "code",
      "source": [
        "from math import ceil\n",
        "line = input()\n",
        "slice_index = ceil(len(line) / 2)\n",
        "parts = [line[:slice_index], line[slice_index:]]\n",
        "print(\"\".join(parts[::-1]))"
      ],
      "metadata": {
        "colab": {
          "base_uri": "https://localhost:8080/"
        },
        "id": "-0R_HCCpeKWQ",
        "outputId": "26b88088-5b35-4997-a253-ce9be0532dc5"
      },
      "execution_count": 9,
      "outputs": [
        {
          "output_type": "stream",
          "name": "stdout",
          "text": [
            "Abrakadabra\n",
            "dabraAbraka\n"
          ]
        }
      ]
    },
    {
      "cell_type": "code",
      "source": [
        "line = input()\n",
        "first_index = line.index(\"h\")\n",
        "last_index = line.rindex(\"h\")\n",
        "\n",
        "print(line[:first_index] + line[last_index+1:])\n",
        ""
      ],
      "metadata": {
        "colab": {
          "base_uri": "https://localhost:8080/"
        },
        "id": "Yo8V1-IXeRo4",
        "outputId": "4726bc1e-7cbc-4b25-e34d-bed9b452f9d7"
      },
      "execution_count": 10,
      "outputs": [
        {
          "output_type": "stream",
          "name": "stdout",
          "text": [
            "In the hole in the ground there lived a hobbit\n",
            "In tobbit\n"
          ]
        }
      ]
    },
    {
      "cell_type": "code",
      "source": [
        "line = input()\n",
        "first_index = line.index(\"h\")\n",
        "last_index = line.rindex(\"h\")\n",
        "\n",
        "print(line[:first_index+1] + line[first_index: last_index][::-1] + line[last_index+1:])"
      ],
      "metadata": {
        "colab": {
          "base_uri": "https://localhost:8080/"
        },
        "id": "KR8nOWJlefP-",
        "outputId": "663bb88c-1b45-4f94-fbba-c02e41aa6bf0"
      },
      "execution_count": 11,
      "outputs": [
        {
          "output_type": "stream",
          "name": "stdout",
          "text": [
            "In the hole in the ground there lived a hobbit\n",
            "In th a devil ereht dnuorg eht ni eloh ehobbit\n"
          ]
        }
      ]
    },
    {
      "cell_type": "code",
      "source": [
        "line = input()\n",
        "first_index = line.index(\"h\")\n",
        "last_index = line.rindex(\"h\")\n",
        "\n",
        "sub_line = line[first_index + 1: last_index].replace(\"h\", \"H\")\n",
        "print(line[:first_index+1] + sub_line + line[last_index:])"
      ],
      "metadata": {
        "colab": {
          "base_uri": "https://localhost:8080/"
        },
        "id": "fawV5YGrembU",
        "outputId": "72229248-0feb-4625-be41-7ebe3e20cdd8"
      },
      "execution_count": 12,
      "outputs": [
        {
          "output_type": "stream",
          "name": "stdout",
          "text": [
            "In the hole in the ground there lived a hobbit\n",
            "In the Hole in tHe ground tHere lived a hobbit\n"
          ]
        }
      ]
    }
  ]
}