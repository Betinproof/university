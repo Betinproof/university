{
  "nbformat": 4,
  "nbformat_minor": 0,
  "metadata": {
    "colab": {
      "provenance": [],
      "authorship_tag": "ABX9TyOw9if0+G0cgtHT/oGK/M25",
      "include_colab_link": true
    },
    "kernelspec": {
      "name": "python3",
      "display_name": "Python 3"
    },
    "language_info": {
      "name": "python"
    }
  },
  "cells": [
    {
      "cell_type": "markdown",
      "metadata": {
        "id": "view-in-github",
        "colab_type": "text"
      },
      "source": [
        "<a href=\"https://colab.research.google.com/github/Betinproof/university/blob/main/tasks%5Cmodule4.ipynb\" target=\"_parent\"><img src=\"https://colab.research.google.com/assets/colab-badge.svg\" alt=\"Open In Colab\"/></a>"
      ]
    },
    {
      "cell_type": "code",
      "source": [
        "a = int(input())\n",
        "if (a % 2 == 0):\n",
        "  print(\"чёт\")\n",
        "else:\n",
        "  print(\"нечет\")"
      ],
      "metadata": {
        "colab": {
          "base_uri": "https://localhost:8080/"
        },
        "id": "cEXOOCOlT_Mg",
        "outputId": "51767fda-6eb5-4b2f-e8c5-c389db96d263"
      },
      "execution_count": 11,
      "outputs": [
        {
          "output_type": "stream",
          "name": "stdout",
          "text": [
            "6\n",
            "чёт\n"
          ]
        }
      ]
    },
    {
      "cell_type": "code",
      "source": [
        "a = int(input())\n",
        "b = int(input())\n",
        "if (a > b):\n",
        "  print(b)\n",
        "else:\n",
        "  print(a)"
      ],
      "metadata": {
        "colab": {
          "base_uri": "https://localhost:8080/"
        },
        "id": "qKv1q2FqVDux",
        "outputId": "bc4d76d6-ec48-4dc6-9b1f-68271ae5b7bb"
      },
      "execution_count": 12,
      "outputs": [
        {
          "output_type": "stream",
          "name": "stdout",
          "text": [
            "3\n",
            "7\n",
            "3\n"
          ]
        }
      ]
    },
    {
      "cell_type": "code",
      "source": [
        "a = int(input())\n",
        "if (a > 0):\n",
        "  print(1)\n",
        "if (a < 0):\n",
        "  print(-1)\n",
        "if (a == 0):\n",
        "  print(0)"
      ],
      "metadata": {
        "colab": {
          "base_uri": "https://localhost:8080/"
        },
        "id": "MEd4Bo3PVcBT",
        "outputId": "f2791be1-3ad7-4d11-efd9-84a774a50a60"
      },
      "execution_count": 15,
      "outputs": [
        {
          "output_type": "stream",
          "name": "stdout",
          "text": [
            "0\n",
            "0\n"
          ]
        }
      ]
    },
    {
      "cell_type": "code",
      "source": [
        "a = int(input())\n",
        "if (a / 100 > 1 and a / 100 < 10):\n",
        "  print(\"Да\")"
      ],
      "metadata": {
        "colab": {
          "base_uri": "https://localhost:8080/"
        },
        "id": "2_xMEayBVxG4",
        "outputId": "f60e43d6-db39-4339-8d02-d95224fba5c0"
      },
      "execution_count": 21,
      "outputs": [
        {
          "output_type": "stream",
          "name": "stdout",
          "text": [
            "999\n",
            "Да\n"
          ]
        }
      ]
    },
    {
      "cell_type": "code",
      "source": [
        "import sys\n",
        "a = int(input())\n",
        "b = int(input())\n",
        "if (a == 0):\n",
        "  sys.exit(\"a - Неподходящее число\")\n",
        "if (b == 0):\n",
        "  sys.exit(\"b - Неподходящее число\")\n",
        "if (a > 0) or (b > 0):\n",
        "  print(\"да\")"
      ],
      "metadata": {
        "colab": {
          "base_uri": "https://localhost:8080/"
        },
        "id": "PSo-grg4W_Q0",
        "outputId": "61c44fc5-4a43-4614-cafb-4f3f439d277a"
      },
      "execution_count": 23,
      "outputs": [
        {
          "name": "stdout",
          "output_type": "stream",
          "text": [
            "-1\n",
            "-2\n"
          ]
        }
      ]
    },
    {
      "cell_type": "code",
      "source": [
        "a = int(input())\n",
        "a1 = a // 100\n",
        "g = a % 100\n",
        "a2 = g // 10\n",
        "g1 = g % 10\n",
        "a3 = g1 // 1\n",
        "if(a1 < a2 < a3):\n",
        "  print(\"Да\")\n",
        "else:\n",
        "  print(\"Нет\")"
      ],
      "metadata": {
        "colab": {
          "base_uri": "https://localhost:8080/"
        },
        "id": "h-QjWKuxcMf-",
        "outputId": "aff4c27e-0545-4aa8-c004-1ffbd3c987ca"
      },
      "execution_count": 33,
      "outputs": [
        {
          "output_type": "stream",
          "name": "stdout",
          "text": [
            "132\n",
            "Нет\n"
          ]
        }
      ]
    },
    {
      "cell_type": "code",
      "source": [
        "a = int(input())\n",
        "a1 = a // 1000\n",
        "g = a % 1000\n",
        "a2 = g // 100\n",
        "g1 = g % 100\n",
        "a3 = g1 // 10\n",
        "g2 = g1 % 10\n",
        "a4 = g2 // 1\n",
        "if(a1 + a2 == a3 + a4):\n",
        "  print(\"Да\")\n",
        "else:\n",
        "  print(\"Нет\")\n"
      ],
      "metadata": {
        "colab": {
          "base_uri": "https://localhost:8080/"
        },
        "id": "2Ke4yhJ5dsDc",
        "outputId": "5e7f088c-57d6-4dcc-c8b0-5235e2d5b7ac"
      },
      "execution_count": 35,
      "outputs": [
        {
          "output_type": "stream",
          "name": "stdout",
          "text": [
            "1231\n",
            "Нет\n"
          ]
        }
      ]
    },
    {
      "cell_type": "code",
      "source": [
        "a = int(input())\n",
        "mes31 = [1, 3, 5, 7,  8, 10, 11]\n",
        "mes30 = [4, 6, 9, 12]\n",
        "mes28 = [2]\n",
        "if(a in mes31):\n",
        "  print(31)\n",
        "elif(a in mes30):\n",
        "  print(30)\n",
        "elif(a in mes28):\n",
        "  print(28)"
      ],
      "metadata": {
        "colab": {
          "base_uri": "https://localhost:8080/"
        },
        "id": "fPqSfr9Ff3R4",
        "outputId": "46a6001f-2072-4fcb-eb8a-c0348d60548f"
      },
      "execution_count": 42,
      "outputs": [
        {
          "output_type": "stream",
          "name": "stdout",
          "text": [
            "2\n",
            "28\n"
          ]
        }
      ]
    },
    {
      "cell_type": "code",
      "source": [
        "import sys\n",
        "a = int(input())\n",
        "a1 = int(input())\n",
        "a2 = int(input())\n",
        "if(a == a1 == a2):\n",
        "  print(3)\n",
        "elif(a == a1):\n",
        "  print(2)\n",
        "elif(a1 == a2):\n",
        "  print(2)\n",
        "elif(a == a2):\n",
        "  print(2)\n",
        "else:\n",
        "  print(0)"
      ],
      "metadata": {
        "colab": {
          "base_uri": "https://localhost:8080/"
        },
        "id": "nmBo37KgjogT",
        "outputId": "18f55380-7c90-4a72-a55f-accbf632c05a"
      },
      "execution_count": 50,
      "outputs": [
        {
          "output_type": "stream",
          "name": "stdout",
          "text": [
            "1\n",
            "2\n",
            "1\n",
            "2\n"
          ]
        }
      ]
    },
    {
      "cell_type": "code",
      "source": [
        "a1 = int(input())\n",
        "a2 = int(input())\n",
        "if((a1 + a2) % 2 == 0):\n",
        "  print(\"Чёрная\")\n",
        "else:\n",
        "  print(\"Белая\")"
      ],
      "metadata": {
        "colab": {
          "base_uri": "https://localhost:8080/"
        },
        "id": "llRH5oc_lUwe",
        "outputId": "6dee9041-ba17-4881-f8dd-2575da1490b9"
      },
      "execution_count": 52,
      "outputs": [
        {
          "output_type": "stream",
          "name": "stdout",
          "text": [
            "3\n",
            "2\n",
            "Белая\n"
          ]
        }
      ]
    },
    {
      "cell_type": "code",
      "source": [
        "a1 = int(input())\n",
        "a2 = int(input())\n",
        "a3 = int(input())\n",
        "a4 = int(input())\n",
        "if((a1 + a2) % 2 == (a3 + a4) % 2):\n",
        "  print(\"Да\")\n",
        "else:\n",
        "  print(\"Нет\")"
      ],
      "metadata": {
        "colab": {
          "base_uri": "https://localhost:8080/"
        },
        "id": "P86HtR_enigy",
        "outputId": "163071b6-aa15-41e2-8dd4-db8785809605"
      },
      "execution_count": 54,
      "outputs": [
        {
          "output_type": "stream",
          "name": "stdout",
          "text": [
            "1\n",
            "1\n",
            "2\n",
            "5\n",
            "Нет\n"
          ]
        }
      ]
    },
    {
      "cell_type": "code",
      "source": [
        "a = int(input())\n",
        "b = int(input())\n",
        "c = 2023\n",
        "mes31 = [1, 3, 5, 7,  8, 10, 11]\n",
        "mes30 = [4, 6, 9, 12]\n",
        "mes28 = [2]\n",
        "if(a in mes31):\n",
        "  if((b + 1) > 31):\n",
        "    a = a + 1\n",
        "    b = 1\n",
        "    print(a,\"-\",b,\"-\",c)\n",
        "  else:\n",
        "    print(a,\"-\",b+1,\"-\",c)\n",
        "if(a in mes30):\n",
        "   if((b + 1) > 30 and a < 12):\n",
        "    a = a + 1\n",
        "    b = 1\n",
        "    print(a,\"-\",b,\"-\",c)\n",
        "   if((b + 1) > 30 and (a + 1) > 12):\n",
        "    a = 1\n",
        "    b = 1\n",
        "    c = c + 1\n",
        "    print(a,\"-\",b,\"-\",c)\n",
        "   else:\n",
        "    print(a,\"-\",b+1,\"-\",c)\n",
        "if(a in mes28):\n",
        "   if((b + 1) > 28):\n",
        "    a = a + 1\n",
        "    b = 1\n",
        "    print(a,\"-\",b,\"-\",c)\n",
        "   else:\n",
        "    print(a,\"-\",b+1,\"-\",c)"
      ],
      "metadata": {
        "colab": {
          "base_uri": "https://localhost:8080/"
        },
        "id": "H-HCp2JZoHiL",
        "outputId": "aca3333a-249e-4982-edf8-1ee80d8acc8f"
      },
      "execution_count": 69,
      "outputs": [
        {
          "output_type": "stream",
          "name": "stdout",
          "text": [
            "12\n",
            "30\n",
            "1 - 1 - 2024\n"
          ]
        }
      ]
    }
  ]
}