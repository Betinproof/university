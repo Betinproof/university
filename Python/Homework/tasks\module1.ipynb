{
  "nbformat": 4,
  "nbformat_minor": 0,
  "metadata": {
    "colab": {
      "provenance": [],
      "authorship_tag": "ABX9TyPOeBdgdxVqi3P1qwsghMOt",
      "include_colab_link": true
    },
    "kernelspec": {
      "name": "python3",
      "display_name": "Python 3"
    },
    "language_info": {
      "name": "python"
    }
  },
  "cells": [
    {
      "cell_type": "markdown",
      "metadata": {
        "id": "view-in-github",
        "colab_type": "text"
      },
      "source": [
        "<a href=\"https://colab.research.google.com/github/Betinproof/university/blob/main/tasks%5Cmodule1.ipynb\" target=\"_parent\"><img src=\"https://colab.research.google.com/assets/colab-badge.svg\" alt=\"Open In Colab\"/></a>"
      ]
    },
    {
      "cell_type": "code",
      "source": [
        "a = 1\n",
        "b = 2\n",
        "c = 3\n",
        "print(a+b+c)"
      ],
      "metadata": {
        "colab": {
          "base_uri": "https://localhost:8080/"
        },
        "id": "wCe6mhykMhGO",
        "outputId": "7fec1eb7-bf49-482c-d3f6-bed07837b98c"
      },
      "execution_count": 59,
      "outputs": [
        {
          "output_type": "stream",
          "name": "stdout",
          "text": [
            "6\n"
          ]
        }
      ]
    },
    {
      "cell_type": "code",
      "source": [
        "a = 3\n",
        "b = 4\n",
        "a = a**2\n",
        "b = b**2\n",
        "c = (a + b)**0.5\n",
        "print(c)"
      ],
      "metadata": {
        "colab": {
          "base_uri": "https://localhost:8080/"
        },
        "id": "oUxOxnvuMhNF",
        "outputId": "007fbd85-02eb-4bb0-ee37-de3761f26dc1"
      },
      "execution_count": 60,
      "outputs": [
        {
          "output_type": "stream",
          "name": "stdout",
          "text": [
            "5.0\n"
          ]
        }
      ]
    },
    {
      "cell_type": "code",
      "source": [
        "a = input(\"Введите своё имя: \")\n",
        "print(\"Привет, \" + a + \"!\")"
      ],
      "metadata": {
        "colab": {
          "base_uri": "https://localhost:8080/"
        },
        "id": "xYo8dXPfMhTW",
        "outputId": "990fa19e-4820-4c29-bcbf-abb200c7c8f2"
      },
      "execution_count": 61,
      "outputs": [
        {
          "output_type": "stream",
          "name": "stdout",
          "text": [
            "Введите своё имя: Илья\n",
            "Привет, Илья!\n"
          ]
        }
      ]
    },
    {
      "cell_type": "code",
      "source": [
        "a_str = input(\"Введите число a: \")\n",
        "a = int(a_str)\n",
        "b = a - 1\n",
        "c = a + 1\n",
        "print(\"Следующее число для числа a: \")\n",
        "print(c)\n",
        "print(\"Предыдущее число для числа a: \")\n",
        "print(b)"
      ],
      "metadata": {
        "colab": {
          "base_uri": "https://localhost:8080/"
        },
        "id": "t3o_dTnFMhZj",
        "outputId": "84bbf053-901d-49a2-dcc2-c175d72bedb4"
      },
      "execution_count": 62,
      "outputs": [
        {
          "output_type": "stream",
          "name": "stdout",
          "text": [
            "Введите число a: 200\n",
            "Следующее число для числа a: \n",
            "201\n",
            "Предыдущее число для числа a: \n",
            "199\n"
          ]
        }
      ]
    },
    {
      "cell_type": "code",
      "source": [
        "N_str = input(\"Введите количество студентов: \")\n",
        "N = int(N_str)\n",
        "K_str = input(\"Введите количество яблок: \")\n",
        "K = int(K_str)\n",
        "a = K // N\n",
        "b = K % N\n",
        "print(\"Яблок у студентов: \")\n",
        "print(a)\n",
        "print(\"Яблок в корзине: \")\n",
        "print(b)"
      ],
      "metadata": {
        "colab": {
          "base_uri": "https://localhost:8080/"
        },
        "id": "YmgzVlwcMhfz",
        "outputId": "502d3186-5715-4956-8937-5f3843e56dd6"
      },
      "execution_count": 64,
      "outputs": [
        {
          "output_type": "stream",
          "name": "stdout",
          "text": [
            "Введите количество студентов: 6\n",
            "Введите количество яблок: 50\n",
            "Яблок у студентов: \n",
            "8\n",
            "Яблок в корзине: \n",
            "2\n"
          ]
        }
      ]
    },
    {
      "cell_type": "code",
      "source": [
        "import sys\n",
        "N = input(\"Введите количество секкунд: \")\n",
        "N = int(N)\n",
        "a = N // 60\n",
        "b = a // 60\n",
        "if (b > 23):\n",
        "  sys.exit(\"Слишком большое число\")\n",
        "print(b)\n",
        "print(a)"
      ],
      "metadata": {
        "colab": {
          "base_uri": "https://localhost:8080/"
        },
        "id": "pvUK1E1JMhln",
        "outputId": "bcf0e7b3-38e6-40fa-fb70-b260d7acf93c"
      },
      "execution_count": 65,
      "outputs": [
        {
          "output_type": "stream",
          "name": "stdout",
          "text": [
            "Введите количество секкунд: 9000\n",
            "2\n",
            "150\n"
          ]
        }
      ]
    },
    {
      "cell_type": "code",
      "source": [
        "h1 = int(input())\n",
        "m1 = int(input())\n",
        "s1 = int(input())\n",
        "h2 = int(input())\n",
        "m2 = int(input())\n",
        "s2 = int(input())\n",
        "print(h2 * 3600 + m2 * 60 + s2 - h1 * 3600 - m1 * 60 - s1)"
      ],
      "metadata": {
        "colab": {
          "base_uri": "https://localhost:8080/"
        },
        "id": "snLSyCrS-XPo",
        "outputId": "8b1789b6-6ef8-435b-d88e-3b0aeb9f3ffa"
      },
      "execution_count": 66,
      "outputs": [
        {
          "output_type": "stream",
          "name": "stdout",
          "text": [
            "1\n",
            "1\n",
            "1\n",
            "3\n",
            "3\n",
            "3\n",
            "7322\n"
          ]
        }
      ]
    }
  ]
}