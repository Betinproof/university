{
  "nbformat": 4,
  "nbformat_minor": 0,
  "metadata": {
    "colab": {
      "provenance": [],
      "authorship_tag": "ABX9TyPhs0EeQE7nmCQdrPPo2hG5",
      "include_colab_link": true
    },
    "kernelspec": {
      "name": "python3",
      "display_name": "Python 3"
    },
    "language_info": {
      "name": "python"
    }
  },
  "cells": [
    {
      "cell_type": "markdown",
      "metadata": {
        "id": "view-in-github",
        "colab_type": "text"
      },
      "source": [
        "<a href=\"https://colab.research.google.com/github/Betinproof/university/blob/main/tasks%5Cmodule3.ipynb\" target=\"_parent\"><img src=\"https://colab.research.google.com/assets/colab-badge.svg\" alt=\"Open In Colab\"/></a>"
      ]
    },
    {
      "cell_type": "code",
      "source": [
        "import string\n",
        "a = input(\"press f to pay respects: \")\n",
        "b = a.split()\n",
        "print(len(b))"
      ],
      "metadata": {
        "colab": {
          "base_uri": "https://localhost:8080/"
        },
        "id": "rWHQWHngprAn",
        "outputId": "0e1a532b-5f85-460f-b35c-6052a910fc25"
      },
      "execution_count": 141,
      "outputs": [
        {
          "output_type": "stream",
          "name": "stdout",
          "text": [
            "press f to pay respects: f f f f f f f f f f f f f f f f f f f f f f f f\n",
            "24\n"
          ]
        }
      ]
    },
    {
      "cell_type": "code",
      "source": [
        "s = input()\n",
        "f = s[:s.find(\" \")]\n",
        "sec = s[s.find(\" \") + 1:]\n",
        "print(sec + \" \" + f)"
      ],
      "metadata": {
        "colab": {
          "base_uri": "https://localhost:8080/"
        },
        "id": "RJ3ih4YlsMtx",
        "outputId": "f96cfff5-7890-4910-b376-ccff77914a4c"
      },
      "execution_count": 150,
      "outputs": [
        {
          "output_type": "stream",
          "name": "stdout",
          "text": [
            "hello teacher\n",
            "teacher hello\n"
          ]
        }
      ]
    },
    {
      "cell_type": "code",
      "source": [
        "s = input()\n",
        "if s.count(\"f\") == 1:\n",
        "    print(s.find(\"f\"))\n",
        "elif s.count(\"f\") >= 2:\n",
        "    print(s.find(\"f\"), s.rfind(\"f\"))\n",
        "else: print(s.find(\"f\"))"
      ],
      "metadata": {
        "colab": {
          "base_uri": "https://localhost:8080/"
        },
        "id": "xj8Bod47uIPb",
        "outputId": "9800a05b-2336-4250-860a-7b56252e44b8"
      },
      "execution_count": 168,
      "outputs": [
        {
          "output_type": "stream",
          "name": "stdout",
          "text": [
            "forward\n",
            "0\n"
          ]
        }
      ]
    },
    {
      "cell_type": "code",
      "source": [
        "print(input().replace(\"1\", \"one\"))"
      ],
      "metadata": {
        "colab": {
          "base_uri": "https://localhost:8080/"
        },
        "id": "1QmcW4Vrxj0K",
        "outputId": "531ddb23-facb-42a9-bf04-e6803b3bf581"
      },
      "execution_count": 171,
      "outputs": [
        {
          "output_type": "stream",
          "name": "stdout",
          "text": [
            "1+1+1=3\n",
            "one+one+one=3\n"
          ]
        }
      ]
    },
    {
      "cell_type": "code",
      "source": [
        "print(input().replace(\"@\", \"\"))"
      ],
      "metadata": {
        "colab": {
          "base_uri": "https://localhost:8080/"
        },
        "id": "fPjzGxqVyTM6",
        "outputId": "9b1484f2-ba3d-428f-89eb-821bbcc5e356"
      },
      "execution_count": 172,
      "outputs": [
        {
          "output_type": "stream",
          "name": "stdout",
          "text": [
            "a@a\n",
            "aa\n"
          ]
        }
      ]
    }
  ]
}