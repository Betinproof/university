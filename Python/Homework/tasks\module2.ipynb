{
  "nbformat": 4,
  "nbformat_minor": 0,
  "metadata": {
    "colab": {
      "provenance": [],
      "authorship_tag": "ABX9TyOtYBnl4gs99ybPXjMfcnIB",
      "include_colab_link": true
    },
    "kernelspec": {
      "name": "python3",
      "display_name": "Python 3"
    },
    "language_info": {
      "name": "python"
    }
  },
  "cells": [
    {
      "cell_type": "markdown",
      "metadata": {
        "id": "view-in-github",
        "colab_type": "text"
      },
      "source": [
        "<a href=\"https://colab.research.google.com/github/Betinproof/university/blob/main/tasks%5Cmodule2.ipynb\" target=\"_parent\"><img src=\"https://colab.research.google.com/assets/colab-badge.svg\" alt=\"Open In Colab\"/></a>"
      ]
    },
    {
      "cell_type": "code",
      "source": [
        "a = int(input())\n",
        "b = a % 10\n",
        "c = a // 10\n",
        "print(b, c)"
      ],
      "metadata": {
        "colab": {
          "base_uri": "https://localhost:8080/"
        },
        "id": "rCLwswoAQF8s",
        "outputId": "242762f2-e7aa-4775-c778-758bd3270a9e"
      },
      "execution_count": 71,
      "outputs": [
        {
          "output_type": "stream",
          "name": "stdout",
          "text": [
            "78\n",
            "8 7\n"
          ]
        }
      ]
    },
    {
      "cell_type": "code",
      "source": [
        "a = int(input())\n",
        "b = a % 10\n",
        "c = a // 10\n",
        "print(str(b) + str(c))"
      ],
      "metadata": {
        "colab": {
          "base_uri": "https://localhost:8080/"
        },
        "id": "EB2-ItZbRDu0",
        "outputId": "0dd1745a-bb3d-41a0-c0f8-a32dde267423"
      },
      "execution_count": 75,
      "outputs": [
        {
          "output_type": "stream",
          "name": "stdout",
          "text": [
            "45\n",
            "54\n"
          ]
        }
      ]
    },
    {
      "cell_type": "code",
      "source": [
        "import sys\n",
        "a = int(input())\n",
        "if (a < 9):\n",
        "  sys.exit(\"Слишком маленькое число\")\n",
        "b = a % 1000\n",
        "c = b % 100\n",
        "print(c)"
      ],
      "metadata": {
        "colab": {
          "base_uri": "https://localhost:8080/"
        },
        "id": "jyGg7k2pS7Uk",
        "outputId": "f9c39ac9-db0a-415c-b11e-815989486a5f"
      },
      "execution_count": 83,
      "outputs": [
        {
          "output_type": "stream",
          "name": "stdout",
          "text": [
            "123\n",
            "23\n"
          ]
        }
      ]
    },
    {
      "cell_type": "code",
      "source": [
        "import sys\n",
        "a = int(input())\n",
        "if (a < 9):\n",
        "  sys.exit(\"Слишком маленькое число\")\n",
        "b = a % 1000\n",
        "c = b % 100\n",
        "d = c // 10\n",
        "print(d)"
      ],
      "metadata": {
        "colab": {
          "base_uri": "https://localhost:8080/"
        },
        "id": "2tcu5pUFW-7u",
        "outputId": "e3f71044-c59a-4b7b-e546-76296237a49f"
      },
      "execution_count": 94,
      "outputs": [
        {
          "output_type": "stream",
          "name": "stdout",
          "text": [
            "1234\n",
            "3\n"
          ]
        }
      ]
    },
    {
      "cell_type": "code",
      "source": [
        "import sys\n",
        "a = int(input())\n",
        "if (a > 999) or (a < 99):\n",
        "  sys.exit(\"Неподходящее число\")\n",
        "b = a // 100\n",
        "g = a % 100\n",
        "c = g // 10\n",
        "g1 = g % 10\n",
        "d = g1 // 1\n",
        "print(b + c + d)"
      ],
      "metadata": {
        "colab": {
          "base_uri": "https://localhost:8080/"
        },
        "id": "Ps0hr-Z3UARL",
        "outputId": "7c81b428-9af2-4e28-8808-554427d1a1a2"
      },
      "execution_count": 92,
      "outputs": [
        {
          "output_type": "stream",
          "name": "stdout",
          "text": [
            "987\n",
            "24\n"
          ]
        }
      ]
    },
    {
      "cell_type": "code",
      "source": [
        "a = float(input())\n",
        "b = a % 1\n",
        "c = b * 10\n",
        "print(int(c))"
      ],
      "metadata": {
        "colab": {
          "base_uri": "https://localhost:8080/"
        },
        "id": "5jpLZG3tUiXA",
        "outputId": "8b774a80-8ba6-492f-b2e3-cd3b7976927e"
      },
      "execution_count": 100,
      "outputs": [
        {
          "output_type": "stream",
          "name": "stdout",
          "text": [
            "2.99\n",
            "9\n"
          ]
        }
      ]
    },
    {
      "cell_type": "code",
      "source": [
        "import sys\n",
        "a = int(input())\n",
        "a = a - 1\n",
        "b = a // 1000\n",
        "g = a % 1000\n",
        "c = g // 100\n",
        "print(str(b) + str(c))"
      ],
      "metadata": {
        "colab": {
          "base_uri": "https://localhost:8080/"
        },
        "id": "fJaFCfCDZY3c",
        "outputId": "97f734ce-43a1-4b38-b1fd-b9f5a1de1c54"
      },
      "execution_count": 105,
      "outputs": [
        {
          "output_type": "stream",
          "name": "stdout",
          "text": [
            "2100\n",
            "20\n"
          ]
        }
      ]
    },
    {
      "cell_type": "code",
      "source": [
        "import sys\n",
        "N = int(input())\n",
        "if (N < 1) or (N > 365):\n",
        "  sys.exit(\"Неподходящее число\")\n",
        "week_days = {\n",
        "    0: 'воскресенье',\n",
        "    1: 'понедельник',\n",
        "    2: 'вторник',\n",
        "    3: 'среда',\n",
        "    4: 'четверг',\n",
        "    5: 'пятница',\n",
        "    6: 'суббота'\n",
        "}\n",
        "i = N%7 + 3\n",
        "print(\"День недели:\",week_days[i])"
      ],
      "metadata": {
        "colab": {
          "base_uri": "https://localhost:8080/"
        },
        "id": "UhuGBPXPc1ve",
        "outputId": "7e66db84-3160-4a28-ddaa-cbf5e4c710c0"
      },
      "execution_count": 116,
      "outputs": [
        {
          "output_type": "stream",
          "name": "stdout",
          "text": [
            "1\n",
            "День недели: четверг\n"
          ]
        }
      ]
    },
    {
      "cell_type": "code",
      "source": [
        "import sys\n",
        "N = int(input())\n",
        "a = N // 60\n",
        "if (a > 23):\n",
        "  sys.exit(\"Слишком большое число\")\n",
        "b = N - (a * 60)\n",
        "print(a, \":\", b)"
      ],
      "metadata": {
        "colab": {
          "base_uri": "https://localhost:8080/"
        },
        "id": "jNRrB0R8j580",
        "outputId": "6ae1b0f2-16d1-4af3-bcdc-e9eadfefb169"
      },
      "execution_count": 126,
      "outputs": [
        {
          "output_type": "stream",
          "name": "stdout",
          "text": [
            "150\n",
            "2 : 30\n"
          ]
        }
      ]
    },
    {
      "cell_type": "code",
      "source": [
        "import sys\n",
        "a = int(input())\n",
        "b = int(input())\n",
        "c = int(input())\n",
        "a1 = a // 2\n",
        "b1 = b // 2\n",
        "c1 = c // 2\n",
        "if(a % 2 != 0):\n",
        "  a1 = a1 + 1\n",
        "if(b % 2 != 0):\n",
        "  b1 = b1 + 1\n",
        "if(c % 2 != 0):\n",
        "  c1 = c1 + 1\n",
        "print(a1 + b1 + c1)"
      ],
      "metadata": {
        "colab": {
          "base_uri": "https://localhost:8080/"
        },
        "id": "DidWRMhjmQB8",
        "outputId": "ed303eb8-ac49-452c-90fa-306cc5e08544"
      },
      "execution_count": 131,
      "outputs": [
        {
          "output_type": "stream",
          "name": "stdout",
          "text": [
            "21\n",
            "21\n",
            "21\n",
            "33\n"
          ]
        }
      ]
    }
  ]
}