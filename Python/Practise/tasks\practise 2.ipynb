{
  "nbformat": 4,
  "nbformat_minor": 0,
  "metadata": {
    "colab": {
      "provenance": [],
      "authorship_tag": "ABX9TyPKbQsUiQLRrCsbRsAmZmKr",
      "include_colab_link": true
    },
    "kernelspec": {
      "name": "python3",
      "display_name": "Python 3"
    },
    "language_info": {
      "name": "python"
    }
  },
  "cells": [
    {
      "cell_type": "markdown",
      "metadata": {
        "id": "view-in-github",
        "colab_type": "text"
      },
      "source": [
        "<a href=\"https://colab.research.google.com/github/Betinproof/university/blob/main/tasks%5Cpractise%202.ipynb\" target=\"_parent\"><img src=\"https://colab.research.google.com/assets/colab-badge.svg\" alt=\"Open In Colab\"/></a>"
      ]
    },
    {
      "cell_type": "code",
      "source": [
        "import random\n",
        "\n",
        "def birthday(iterations):\n",
        "    matching_birthdays_count = 0\n",
        "\n",
        "    for _ in range(iterations):\n",
        "        # Генерация случайных дней рождения для каждого человека в группе\n",
        "        birthdays = [random.randint(1, 28) for _ in range(23)]\n",
        "\n",
        "        # Проверка наличия совпадений в днях рождения\n",
        "        if len(birthdays) != len(set(birthdays)):\n",
        "            matching_birthdays_count += 1\n",
        "\n",
        "    # Вычисление процента совпадений\n",
        "    percentage_matching = (matching_birthdays_count / iterations) * 100\n",
        "    return percentage_matching\n",
        "\n",
        "# Пример использования функции с 10000 итерациями\n",
        "result = birthday(10000)\n",
        "print(f\"Вероятность совпадения дней рождения в группе из 23 человек: {result:.2f}%\")\n"
      ],
      "metadata": {
        "colab": {
          "base_uri": "https://localhost:8080/"
        },
        "id": "RrHrxsVTTiIf",
        "outputId": "ab3066ce-3695-4833-f499-00a9862dfa58"
      },
      "execution_count": 20,
      "outputs": [
        {
          "output_type": "stream",
          "name": "stdout",
          "text": [
            "При оставании при выборе выигрыши: 33283 из 100000 попыток.\n",
            "При изменении выбора выигрыши: 66717 из 100000 попыток.\n"
          ]
        }
      ]
    },
    {
      "cell_type": "code",
      "source": [
        "import random\n",
        "\n",
        "def birthday(iterations):\n",
        "    matching_birthdays_count = 0\n",
        "\n",
        "    for _ in range(iterations):\n",
        "        birthdays = [random.randint(1, 28) for _ in range(23)]\n",
        "        if len(birthdays) != len(set(birthdays)):\n",
        "            matching_birthdays_count += 1\n",
        "\n",
        "    percentage_matching = (matching_birthdays_count / iterations) * 100\n",
        "    return percentage_matching\n",
        "\n",
        "# Пример использования функции с 10000 итерациями\n",
        "result = birthday(10000)\n",
        "print(f\"Вероятность совпадения дней рождения в группе из 23 человек: {result:.2f}%\")"
      ],
      "metadata": {
        "colab": {
          "base_uri": "https://localhost:8080/"
        },
        "id": "ENHnKf75sCcq",
        "outputId": "2578ccf2-ab68-4b12-c4b9-04a8e1ee6aff"
      },
      "execution_count": 21,
      "outputs": [
        {
          "output_type": "stream",
          "name": "stdout",
          "text": [
            "Вероятность совпадения дней рождения в группе из 23 человек: 100.00%\n"
          ]
        }
      ]
    },
    {
      "cell_type": "code",
      "source": [
        "# paradox.py\n",
        "import random\n",
        "\n",
        "def birthday(iterations):\n",
        "    matching_birthdays_count = 0\n",
        "\n",
        "    for _ in range(iterations):\n",
        "        birthdays = [random.randint(1, 28) for _ in range(23)]\n",
        "        if len(birthdays) != len(set(birthdays)):\n",
        "            matching_birthdays_count += 1\n",
        "\n",
        "    percentage_matching = (matching_birthdays_count / iterations) * 100\n",
        "    return percentage_matching\n",
        "\n",
        "def monty_hall(iterations):\n",
        "    # Реализация функции Monty Hall (предыдущего парадокса)\n",
        "    pass\n",
        "\n",
        "if __name__ == \"__main__\":\n",
        "    result_birthday = birthday(10000)\n",
        "    print(f\"Вероятность совпадения дней рождения в группе из 23 человек: {result_birthday:.2f}%\")\n",
        "\n",
        "    # Пример использования Monty Hall (предыдущий парадокс)\n",
        "    # result_monty_hall = monty_hall(10000)\n",
        "    # print(f\"Вероятность успешного выбора при стратегии Monty Hall: {result_monty_hall:.2f}%\")"
      ],
      "metadata": {
        "colab": {
          "base_uri": "https://localhost:8080/"
        },
        "id": "qnnEmpcpsG4w",
        "outputId": "43a97c35-60d7-43c2-a959-05ea255b4094"
      },
      "execution_count": 22,
      "outputs": [
        {
          "output_type": "stream",
          "name": "stdout",
          "text": [
            "Вероятность совпадения дней рождения в группе из 23 человек: 100.00%\n"
          ]
        }
      ]
    }
  ]
}