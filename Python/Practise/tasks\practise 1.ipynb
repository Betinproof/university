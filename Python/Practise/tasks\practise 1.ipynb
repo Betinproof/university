{
  "nbformat": 4,
  "nbformat_minor": 0,
  "metadata": {
    "colab": {
      "provenance": [],
      "authorship_tag": "ABX9TyMqSsBZ20rXh+eFgzLktfKF",
      "include_colab_link": true
    },
    "kernelspec": {
      "name": "python3",
      "display_name": "Python 3"
    },
    "language_info": {
      "name": "python"
    }
  },
  "cells": [
    {
      "cell_type": "markdown",
      "metadata": {
        "id": "view-in-github",
        "colab_type": "text"
      },
      "source": [
        "<a href=\"https://colab.research.google.com/github/Betinproof/university/blob/main/tasks%5Cpractise%201.ipynb\" target=\"_parent\"><img src=\"https://colab.research.google.com/assets/colab-badge.svg\" alt=\"Open In Colab\"/></a>"
      ]
    },
    {
      "cell_type": "code",
      "source": [
        "import random\n",
        "\n",
        "def monty_hall_simulation(num_trials):\n",
        "    stay_wins = 0\n",
        "    switch_wins = 0\n",
        "\n",
        "    for _ in range(num_trials):\n",
        "        # Имитация начального выбора участника\n",
        "        chosen_door = random.randrange(1, 4)\n",
        "\n",
        "        # Имитация расположения приза за дверьми\n",
        "        prize_door = random.randrange(1, 4)\n",
        "\n",
        "        # Ведущий открывает одну из оставшихся дверей без приза\n",
        "        remaining_doors = [door for door in [1, 2, 3] if door != chosen_door and door != prize_door]\n",
        "        door_opened = random.choice(remaining_doors)\n",
        "\n",
        "        # Участник решает либо остаться при своем выборе, либо изменить\n",
        "        switch_door = [door for door in [1, 2, 3] if door != chosen_door and door != door_opened][0]\n",
        "\n",
        "        # Подсчет выигрышей при оставании и при изменении выбора\n",
        "        stay_wins += chosen_door == prize_door\n",
        "        switch_wins += switch_door == prize_door\n",
        "\n",
        "    # Вывод результатов\n",
        "    print(f\"При оставании при выборе выигрыши: {stay_wins} из {num_trials} попыток.\")\n",
        "    print(f\"При изменении выбора выигрыши: {switch_wins} из {num_trials} попыток.\")\n",
        "\n",
        "# Запустите симуляцию с желаемым числом испытаний\n",
        "monty_hall_simulation(100000)\n"
      ],
      "metadata": {
        "colab": {
          "base_uri": "https://localhost:8080/"
        },
        "id": "RrHrxsVTTiIf",
        "outputId": "ab3066ce-3695-4833-f499-00a9862dfa58"
      },
      "execution_count": 20,
      "outputs": [
        {
          "output_type": "stream",
          "name": "stdout",
          "text": [
            "При оставании при выборе выигрыши: 33283 из 100000 попыток.\n",
            "При изменении выбора выигрыши: 66717 из 100000 попыток.\n"
          ]
        }
      ]
    }
  ]
}